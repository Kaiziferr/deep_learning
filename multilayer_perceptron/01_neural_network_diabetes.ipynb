{
  "nbformat": 4,
  "nbformat_minor": 0,
  "metadata": {
    "colab": {
      "provenance": [],
      "authorship_tag": "ABX9TyNoHsUHYqtKeyT4L6Yj3/bY",
      "include_colab_link": true
    },
    "kernelspec": {
      "name": "python3",
      "display_name": "Python 3"
    },
    "language_info": {
      "name": "python"
    }
  },
  "cells": [
    {
      "cell_type": "markdown",
      "metadata": {
        "id": "view-in-github",
        "colab_type": "text"
      },
      "source": [
        "<a href=\"https://colab.research.google.com/github/Kaiziferr/deep_learning/blob/master/multilayer_perceptron/01_neural_network_diabetes.ipynb\" target=\"_parent\"><img src=\"https://colab.research.google.com/assets/colab-badge.svg\" alt=\"Open In Colab\"/></a>"
      ]
    },
    {
      "cell_type": "code",
      "source": [
        "import warnings\n",
        "\n",
        "import tensorflow\n",
        "import keras\n",
        "import numpy as np\n",
        "import pandas as pd\n",
        "import matplotlib.pyplot as plt\n",
        "from matplotlib.colors import ListedColormap\n",
        "import seaborn as sns\n",
        "\n",
        "from keras.models import Sequential\n",
        "from keras.layers import Dense\n",
        "\n",
        "from tensorflow.keras.metrics import Recall\n",
        "\n",
        "from sklearn.pipeline import Pipeline\n",
        "\n",
        "from sklearn.preprocessing import MinMaxScaler\n",
        "\n",
        "from sklearn.model_selection import (\n",
        "    train_test_split,\n",
        "    StratifiedKFold,\n",
        "    cross_val_score)\n",
        "\n",
        "from sklearn import metrics"
      ],
      "metadata": {
        "id": "l0x_KfjBZ5a9"
      },
      "execution_count": 1,
      "outputs": []
    },
    {
      "cell_type": "markdown",
      "source": [
        "Info\n",
        "@By: **Steven Bernal**\n",
        "\n",
        "@Nickname: **Kaiziferr**\n",
        "\n",
        "@Git: **https://github.com/Kaiziferr**"
      ],
      "metadata": {
        "id": "5HEsCj53Mj5Y"
      }
    },
    {
      "cell_type": "markdown",
      "source": [
        "# **Objective**\n",
        "---\n",
        "The goal of the dataset is to predict if a female patient has diabetes or not.\n"
      ],
      "metadata": {
        "id": "QsIFUKasAqeZ"
      }
    },
    {
      "cell_type": "markdown",
      "source": [
        "## **Data dictionary**\n",
        "---\n",
        "- `Pregnancies` : number of pregnancies\n",
        "- `Glucose` : blood glucose concentration 2 hours after an oral glucose tolerance test\n",
        "- `BloodPressure`: diastolic blood pressure (mm Hg)\n",
        "- `SkinThickness`: triceps skin fold thickness (mm)\n",
        "- `Insulin` : serum insulin 2 hours (mu U/ml)\n",
        "- `BMI` :  Body Mass Index (weight in kg / (height in m)^2)\n",
        "- `DiabetesPedigreeFunction`: función del pedigrí de la diabetes\n",
        "- `Age`: age\n",
        "- `Outcome`: outcome"
      ],
      "metadata": {
        "id": "334clBxRA_eg"
      }
    },
    {
      "cell_type": "markdown",
      "source": [
        "# **Functions**\n",
        "---"
      ],
      "metadata": {
        "id": "c58JeHJVe6DL"
      }
    },
    {
      "cell_type": "code",
      "source": [
        "def generate_colors(paleta:str=\"Set1\", n_colors:int=15)-> tuple:\n",
        "  \"\"\"color generator\"\"\"\n",
        "  try:\n",
        "    cmap = sns.color_palette(paleta, n_colors).as_hex()\n",
        "    list_camp = ListedColormap(cmap)\n",
        "    return cmap, list_camp\n",
        "  except Exception as e:\n",
        "    print(e)\n",
        "\n",
        "def plot_bar(data:pd.DataFrame, paleta:list=None, figsize_x:int=8, figsize_y:int=5,\n",
        "             fontsize:int=15, **kwards)->None:\n",
        "  \"\"\"Grafica un diagrama de barras con multiples caracteristicas\"\"\"\n",
        "  try:\n",
        "    paleta = paleta if paleta !=None else generate_colors()[0]\n",
        "    v = kwards\n",
        "    ejeX = v[\"ejeX\"]\n",
        "\n",
        "    fig, ax = plt.subplots(figsize = (figsize_x, figsize_y))\n",
        "    fig.suptitle(f'Diagrama de barras {v[\"title\"]}', fontsize=fontsize)\n",
        "\n",
        "    if type(ejeX) == str:\n",
        "      sns.countplot(x=ejeX, data=data, ax = ax, palette=paleta)\n",
        "    else:\n",
        "      ejeX = v['ejeX'][0]\n",
        "      sns.countplot(x=ejeX, hue=v['ejeX'][1], data=data, ax=ax, palette=paleta)\n",
        "\n",
        "    ax.set_ylabel(v['ejey'], size = 12)\n",
        "    ax.set_xlabel(ejeX, size=fontsize-3)\n",
        "\n",
        "    ax.set_xticklabels(ax.get_xticklabels(), fontsize = fontsize-3)\n",
        "    for p in ax.patches:\n",
        "      try:\n",
        "        height = int(p.get_height())\n",
        "        height_text = height\n",
        "        if kwards['p'] == True:\n",
        "          percentage = round(height/data.shape[0], 5)\n",
        "          height_text = f'{height} ({percentage})'\n",
        "        ax.text(p.get_x()+p.get_width()/2., height + 1, height_text, ha=\"center\")\n",
        "      except Exception as e:\n",
        "        print(e)\n",
        "\n",
        "  except Exception as e:\n",
        "    print(e)\n",
        "\n",
        "def optimization_learning_curves(\n",
        "    history:dict,\n",
        "    metrica:str,\n",
        "    title:str='',\n",
        "    X_size:int=8,\n",
        "    y_size:int=4,\n",
        "    font_size:int=15,\n",
        "    X_label:str='Epoch',\n",
        "    y_label:str='Loss'\n",
        ")->None:\n",
        "  \"\"\" Grafica curvas de aprendizaje \"\"\"\n",
        "  fig, ax = plt.subplots(figsize=(X_size, y_size))\n",
        "  fig.suptitle(title, fontsize=font_size)\n",
        "  ax.plot(history.history[metrica])\n",
        "  ax.plot(history.history[f'val_{metrica}'])\n",
        "  ax.set_xlabel(X_label, size = 12)\n",
        "  ax.set_ylabel(y_label, size = 12)\n",
        "  ax.legend(['Train', 'Test'], loc = 'upper right', fontsize = 12)\n",
        "  ax.tick_params(labelsize = 12)\n",
        "  fig.show()\n",
        "\n",
        "\n",
        "def matrix_confusion(\n",
        "    y_true:pd.Series,\n",
        "    y_pred:pd.Series,\n",
        "    churm:str='True',\n",
        "    no_churm:str='False',\n",
        "    title:str='Matriz de confusion',\n",
        "    x_size:int=6,\n",
        "    y_size:int=5,\n",
        "    **kwards)->np.ndarray:\n",
        "    \"\"\"confusion matrix\"\"\"\n",
        "    try:\n",
        "      matrix = metrics.confusion_matrix(y_true, y_pred)\n",
        "      fig, ax = plt.subplots(nrows=1, ncols=1, figsize=(x_size, y_size))\n",
        "      sns.heatmap(matrix, annot=True, ax=ax, fmt='g', **kwards)\n",
        "      ax.set_title(title,size=20)\n",
        "      ax.xaxis.set_ticklabels([no_churm,churm])\n",
        "      ax.yaxis.set_ticklabels([no_churm,churm])\n",
        "      ax.tick_params(labelsize = 12)\n",
        "      fig.show()\n",
        "      return matrix\n",
        "    except Exception as e:\n",
        "      print(e)"
      ],
      "metadata": {
        "id": "muu74_LXfBM1"
      },
      "execution_count": 35,
      "outputs": []
    },
    {
      "cell_type": "markdown",
      "source": [
        "# **Config**\n",
        "---"
      ],
      "metadata": {
        "id": "sjGBfwcvdyIz"
      }
    },
    {
      "cell_type": "code",
      "source": [
        "random_seed = 12354\n",
        "warnings.filterwarnings('ignore')\n",
        "sns.set(style='darkgrid')\n",
        "title_data = 'Diabetes'\n",
        "paleta = sns.color_palette('tab10').as_hex()\n",
        "keras.utils.set_random_seed(random_seed)"
      ],
      "metadata": {
        "id": "3oFjVhDKd8c7"
      },
      "execution_count": 3,
      "outputs": []
    },
    {
      "cell_type": "markdown",
      "source": [
        "# **Data**\n",
        "---"
      ],
      "metadata": {
        "id": "z9599bVCeN68"
      }
    },
    {
      "cell_type": "code",
      "source": [
        "url='https://drive.google.com/file/d/1FGFPdobSr2bMdYJOou-qWV8pJ1iOiW5d/view?usp=sharing'\n",
        "url='https://drive.google.com/uc?id=' + url.split('/')[-2]\n",
        "data = pd.read_csv(url, dtype=str)"
      ],
      "metadata": {
        "id": "z76vBTTzdFNN"
      },
      "execution_count": 4,
      "outputs": []
    },
    {
      "cell_type": "code",
      "source": [
        "data.head(3)"
      ],
      "metadata": {
        "colab": {
          "base_uri": "https://localhost:8080/",
          "height": 143
        },
        "id": "fLchA42fBh4h",
        "outputId": "967edd82-5090-4eec-97af-6b721c6ee77a"
      },
      "execution_count": 5,
      "outputs": [
        {
          "output_type": "execute_result",
          "data": {
            "text/plain": [
              "  Pregnancies Glucose BloodPressure SkinThickness Insulin   BMI  \\\n",
              "0           6     148            72            35       0  33.6   \n",
              "1           1      85            66            29       0  26.6   \n",
              "2           8     183            64             0       0  23.3   \n",
              "\n",
              "  DiabetesPedigreeFunction Age Outcome  \n",
              "0                    0.627  50       1  \n",
              "1                    0.351  31       0  \n",
              "2                    0.672  32       1  "
            ],
            "text/html": [
              "\n",
              "  <div id=\"df-24baa8e2-c194-4fb7-b204-e336443b1c76\" class=\"colab-df-container\">\n",
              "    <div>\n",
              "<style scoped>\n",
              "    .dataframe tbody tr th:only-of-type {\n",
              "        vertical-align: middle;\n",
              "    }\n",
              "\n",
              "    .dataframe tbody tr th {\n",
              "        vertical-align: top;\n",
              "    }\n",
              "\n",
              "    .dataframe thead th {\n",
              "        text-align: right;\n",
              "    }\n",
              "</style>\n",
              "<table border=\"1\" class=\"dataframe\">\n",
              "  <thead>\n",
              "    <tr style=\"text-align: right;\">\n",
              "      <th></th>\n",
              "      <th>Pregnancies</th>\n",
              "      <th>Glucose</th>\n",
              "      <th>BloodPressure</th>\n",
              "      <th>SkinThickness</th>\n",
              "      <th>Insulin</th>\n",
              "      <th>BMI</th>\n",
              "      <th>DiabetesPedigreeFunction</th>\n",
              "      <th>Age</th>\n",
              "      <th>Outcome</th>\n",
              "    </tr>\n",
              "  </thead>\n",
              "  <tbody>\n",
              "    <tr>\n",
              "      <th>0</th>\n",
              "      <td>6</td>\n",
              "      <td>148</td>\n",
              "      <td>72</td>\n",
              "      <td>35</td>\n",
              "      <td>0</td>\n",
              "      <td>33.6</td>\n",
              "      <td>0.627</td>\n",
              "      <td>50</td>\n",
              "      <td>1</td>\n",
              "    </tr>\n",
              "    <tr>\n",
              "      <th>1</th>\n",
              "      <td>1</td>\n",
              "      <td>85</td>\n",
              "      <td>66</td>\n",
              "      <td>29</td>\n",
              "      <td>0</td>\n",
              "      <td>26.6</td>\n",
              "      <td>0.351</td>\n",
              "      <td>31</td>\n",
              "      <td>0</td>\n",
              "    </tr>\n",
              "    <tr>\n",
              "      <th>2</th>\n",
              "      <td>8</td>\n",
              "      <td>183</td>\n",
              "      <td>64</td>\n",
              "      <td>0</td>\n",
              "      <td>0</td>\n",
              "      <td>23.3</td>\n",
              "      <td>0.672</td>\n",
              "      <td>32</td>\n",
              "      <td>1</td>\n",
              "    </tr>\n",
              "  </tbody>\n",
              "</table>\n",
              "</div>\n",
              "    <div class=\"colab-df-buttons\">\n",
              "\n",
              "  <div class=\"colab-df-container\">\n",
              "    <button class=\"colab-df-convert\" onclick=\"convertToInteractive('df-24baa8e2-c194-4fb7-b204-e336443b1c76')\"\n",
              "            title=\"Convert this dataframe to an interactive table.\"\n",
              "            style=\"display:none;\">\n",
              "\n",
              "  <svg xmlns=\"http://www.w3.org/2000/svg\" height=\"24px\" viewBox=\"0 -960 960 960\">\n",
              "    <path d=\"M120-120v-720h720v720H120Zm60-500h600v-160H180v160Zm220 220h160v-160H400v160Zm0 220h160v-160H400v160ZM180-400h160v-160H180v160Zm440 0h160v-160H620v160ZM180-180h160v-160H180v160Zm440 0h160v-160H620v160Z\"/>\n",
              "  </svg>\n",
              "    </button>\n",
              "\n",
              "  <style>\n",
              "    .colab-df-container {\n",
              "      display:flex;\n",
              "      gap: 12px;\n",
              "    }\n",
              "\n",
              "    .colab-df-convert {\n",
              "      background-color: #E8F0FE;\n",
              "      border: none;\n",
              "      border-radius: 50%;\n",
              "      cursor: pointer;\n",
              "      display: none;\n",
              "      fill: #1967D2;\n",
              "      height: 32px;\n",
              "      padding: 0 0 0 0;\n",
              "      width: 32px;\n",
              "    }\n",
              "\n",
              "    .colab-df-convert:hover {\n",
              "      background-color: #E2EBFA;\n",
              "      box-shadow: 0px 1px 2px rgba(60, 64, 67, 0.3), 0px 1px 3px 1px rgba(60, 64, 67, 0.15);\n",
              "      fill: #174EA6;\n",
              "    }\n",
              "\n",
              "    .colab-df-buttons div {\n",
              "      margin-bottom: 4px;\n",
              "    }\n",
              "\n",
              "    [theme=dark] .colab-df-convert {\n",
              "      background-color: #3B4455;\n",
              "      fill: #D2E3FC;\n",
              "    }\n",
              "\n",
              "    [theme=dark] .colab-df-convert:hover {\n",
              "      background-color: #434B5C;\n",
              "      box-shadow: 0px 1px 3px 1px rgba(0, 0, 0, 0.15);\n",
              "      filter: drop-shadow(0px 1px 2px rgba(0, 0, 0, 0.3));\n",
              "      fill: #FFFFFF;\n",
              "    }\n",
              "  </style>\n",
              "\n",
              "    <script>\n",
              "      const buttonEl =\n",
              "        document.querySelector('#df-24baa8e2-c194-4fb7-b204-e336443b1c76 button.colab-df-convert');\n",
              "      buttonEl.style.display =\n",
              "        google.colab.kernel.accessAllowed ? 'block' : 'none';\n",
              "\n",
              "      async function convertToInteractive(key) {\n",
              "        const element = document.querySelector('#df-24baa8e2-c194-4fb7-b204-e336443b1c76');\n",
              "        const dataTable =\n",
              "          await google.colab.kernel.invokeFunction('convertToInteractive',\n",
              "                                                    [key], {});\n",
              "        if (!dataTable) return;\n",
              "\n",
              "        const docLinkHtml = 'Like what you see? Visit the ' +\n",
              "          '<a target=\"_blank\" href=https://colab.research.google.com/notebooks/data_table.ipynb>data table notebook</a>'\n",
              "          + ' to learn more about interactive tables.';\n",
              "        element.innerHTML = '';\n",
              "        dataTable['output_type'] = 'display_data';\n",
              "        await google.colab.output.renderOutput(dataTable, element);\n",
              "        const docLink = document.createElement('div');\n",
              "        docLink.innerHTML = docLinkHtml;\n",
              "        element.appendChild(docLink);\n",
              "      }\n",
              "    </script>\n",
              "  </div>\n",
              "\n",
              "\n",
              "<div id=\"df-6fa5d118-380c-4ce4-91ba-b9ba65f57549\">\n",
              "  <button class=\"colab-df-quickchart\" onclick=\"quickchart('df-6fa5d118-380c-4ce4-91ba-b9ba65f57549')\"\n",
              "            title=\"Suggest charts\"\n",
              "            style=\"display:none;\">\n",
              "\n",
              "<svg xmlns=\"http://www.w3.org/2000/svg\" height=\"24px\"viewBox=\"0 0 24 24\"\n",
              "     width=\"24px\">\n",
              "    <g>\n",
              "        <path d=\"M19 3H5c-1.1 0-2 .9-2 2v14c0 1.1.9 2 2 2h14c1.1 0 2-.9 2-2V5c0-1.1-.9-2-2-2zM9 17H7v-7h2v7zm4 0h-2V7h2v10zm4 0h-2v-4h2v4z\"/>\n",
              "    </g>\n",
              "</svg>\n",
              "  </button>\n",
              "\n",
              "<style>\n",
              "  .colab-df-quickchart {\n",
              "      --bg-color: #E8F0FE;\n",
              "      --fill-color: #1967D2;\n",
              "      --hover-bg-color: #E2EBFA;\n",
              "      --hover-fill-color: #174EA6;\n",
              "      --disabled-fill-color: #AAA;\n",
              "      --disabled-bg-color: #DDD;\n",
              "  }\n",
              "\n",
              "  [theme=dark] .colab-df-quickchart {\n",
              "      --bg-color: #3B4455;\n",
              "      --fill-color: #D2E3FC;\n",
              "      --hover-bg-color: #434B5C;\n",
              "      --hover-fill-color: #FFFFFF;\n",
              "      --disabled-bg-color: #3B4455;\n",
              "      --disabled-fill-color: #666;\n",
              "  }\n",
              "\n",
              "  .colab-df-quickchart {\n",
              "    background-color: var(--bg-color);\n",
              "    border: none;\n",
              "    border-radius: 50%;\n",
              "    cursor: pointer;\n",
              "    display: none;\n",
              "    fill: var(--fill-color);\n",
              "    height: 32px;\n",
              "    padding: 0;\n",
              "    width: 32px;\n",
              "  }\n",
              "\n",
              "  .colab-df-quickchart:hover {\n",
              "    background-color: var(--hover-bg-color);\n",
              "    box-shadow: 0 1px 2px rgba(60, 64, 67, 0.3), 0 1px 3px 1px rgba(60, 64, 67, 0.15);\n",
              "    fill: var(--button-hover-fill-color);\n",
              "  }\n",
              "\n",
              "  .colab-df-quickchart-complete:disabled,\n",
              "  .colab-df-quickchart-complete:disabled:hover {\n",
              "    background-color: var(--disabled-bg-color);\n",
              "    fill: var(--disabled-fill-color);\n",
              "    box-shadow: none;\n",
              "  }\n",
              "\n",
              "  .colab-df-spinner {\n",
              "    border: 2px solid var(--fill-color);\n",
              "    border-color: transparent;\n",
              "    border-bottom-color: var(--fill-color);\n",
              "    animation:\n",
              "      spin 1s steps(1) infinite;\n",
              "  }\n",
              "\n",
              "  @keyframes spin {\n",
              "    0% {\n",
              "      border-color: transparent;\n",
              "      border-bottom-color: var(--fill-color);\n",
              "      border-left-color: var(--fill-color);\n",
              "    }\n",
              "    20% {\n",
              "      border-color: transparent;\n",
              "      border-left-color: var(--fill-color);\n",
              "      border-top-color: var(--fill-color);\n",
              "    }\n",
              "    30% {\n",
              "      border-color: transparent;\n",
              "      border-left-color: var(--fill-color);\n",
              "      border-top-color: var(--fill-color);\n",
              "      border-right-color: var(--fill-color);\n",
              "    }\n",
              "    40% {\n",
              "      border-color: transparent;\n",
              "      border-right-color: var(--fill-color);\n",
              "      border-top-color: var(--fill-color);\n",
              "    }\n",
              "    60% {\n",
              "      border-color: transparent;\n",
              "      border-right-color: var(--fill-color);\n",
              "    }\n",
              "    80% {\n",
              "      border-color: transparent;\n",
              "      border-right-color: var(--fill-color);\n",
              "      border-bottom-color: var(--fill-color);\n",
              "    }\n",
              "    90% {\n",
              "      border-color: transparent;\n",
              "      border-bottom-color: var(--fill-color);\n",
              "    }\n",
              "  }\n",
              "</style>\n",
              "\n",
              "  <script>\n",
              "    async function quickchart(key) {\n",
              "      const quickchartButtonEl =\n",
              "        document.querySelector('#' + key + ' button');\n",
              "      quickchartButtonEl.disabled = true;  // To prevent multiple clicks.\n",
              "      quickchartButtonEl.classList.add('colab-df-spinner');\n",
              "      try {\n",
              "        const charts = await google.colab.kernel.invokeFunction(\n",
              "            'suggestCharts', [key], {});\n",
              "      } catch (error) {\n",
              "        console.error('Error during call to suggestCharts:', error);\n",
              "      }\n",
              "      quickchartButtonEl.classList.remove('colab-df-spinner');\n",
              "      quickchartButtonEl.classList.add('colab-df-quickchart-complete');\n",
              "    }\n",
              "    (() => {\n",
              "      let quickchartButtonEl =\n",
              "        document.querySelector('#df-6fa5d118-380c-4ce4-91ba-b9ba65f57549 button');\n",
              "      quickchartButtonEl.style.display =\n",
              "        google.colab.kernel.accessAllowed ? 'block' : 'none';\n",
              "    })();\n",
              "  </script>\n",
              "</div>\n",
              "\n",
              "    </div>\n",
              "  </div>\n"
            ],
            "application/vnd.google.colaboratory.intrinsic+json": {
              "type": "dataframe",
              "variable_name": "data",
              "summary": "{\n  \"name\": \"data\",\n  \"rows\": 768,\n  \"fields\": [\n    {\n      \"column\": \"Pregnancies\",\n      \"properties\": {\n        \"dtype\": \"category\",\n        \"num_unique_values\": 17,\n        \"samples\": [\n          \"6\",\n          \"1\",\n          \"3\"\n        ],\n        \"semantic_type\": \"\",\n        \"description\": \"\"\n      }\n    },\n    {\n      \"column\": \"Glucose\",\n      \"properties\": {\n        \"dtype\": \"category\",\n        \"num_unique_values\": 136,\n        \"samples\": [\n          \"151\",\n          \"101\",\n          \"112\"\n        ],\n        \"semantic_type\": \"\",\n        \"description\": \"\"\n      }\n    },\n    {\n      \"column\": \"BloodPressure\",\n      \"properties\": {\n        \"dtype\": \"category\",\n        \"num_unique_values\": 47,\n        \"samples\": [\n          \"86\",\n          \"46\",\n          \"85\"\n        ],\n        \"semantic_type\": \"\",\n        \"description\": \"\"\n      }\n    },\n    {\n      \"column\": \"SkinThickness\",\n      \"properties\": {\n        \"dtype\": \"category\",\n        \"num_unique_values\": 51,\n        \"samples\": [\n          \"7\",\n          \"12\",\n          \"48\"\n        ],\n        \"semantic_type\": \"\",\n        \"description\": \"\"\n      }\n    },\n    {\n      \"column\": \"Insulin\",\n      \"properties\": {\n        \"dtype\": \"category\",\n        \"num_unique_values\": 186,\n        \"samples\": [\n          \"52\",\n          \"41\",\n          \"183\"\n        ],\n        \"semantic_type\": \"\",\n        \"description\": \"\"\n      }\n    },\n    {\n      \"column\": \"BMI\",\n      \"properties\": {\n        \"dtype\": \"category\",\n        \"num_unique_values\": 248,\n        \"samples\": [\n          \"19.9\",\n          \"31\",\n          \"38.1\"\n        ],\n        \"semantic_type\": \"\",\n        \"description\": \"\"\n      }\n    },\n    {\n      \"column\": \"DiabetesPedigreeFunction\",\n      \"properties\": {\n        \"dtype\": \"string\",\n        \"num_unique_values\": 517,\n        \"samples\": [\n          \"1.731\",\n          \"0.426\",\n          \"0.138\"\n        ],\n        \"semantic_type\": \"\",\n        \"description\": \"\"\n      }\n    },\n    {\n      \"column\": \"Age\",\n      \"properties\": {\n        \"dtype\": \"category\",\n        \"num_unique_values\": 52,\n        \"samples\": [\n          \"60\",\n          \"47\",\n          \"72\"\n        ],\n        \"semantic_type\": \"\",\n        \"description\": \"\"\n      }\n    },\n    {\n      \"column\": \"Outcome\",\n      \"properties\": {\n        \"dtype\": \"category\",\n        \"num_unique_values\": 2,\n        \"samples\": [\n          \"0\",\n          \"1\"\n        ],\n        \"semantic_type\": \"\",\n        \"description\": \"\"\n      }\n    }\n  ]\n}"
            }
          },
          "metadata": {},
          "execution_count": 5
        }
      ]
    },
    {
      "cell_type": "code",
      "source": [
        "data[[\n",
        "    'Pregnancies',\n",
        "    'Glucose',\n",
        "    'BloodPressure',\n",
        "    'SkinThickness',\n",
        "    'Insulin',\n",
        "    'Age',\n",
        "    'Outcome']] =  data[[\n",
        "    'Pregnancies',\n",
        "    'Glucose',\n",
        "    'BloodPressure',\n",
        "    'SkinThickness',\n",
        "    'Insulin',\n",
        "    'Age',\n",
        "    'Outcome']].astype('int32')\n",
        "\n",
        "\n",
        "\n",
        "data[[\n",
        "    'BMI',\n",
        "    'DiabetesPedigreeFunction']] = data[['BMI',\n",
        "                                         'DiabetesPedigreeFunction']].astype('float32')"
      ],
      "metadata": {
        "id": "0b2g1W5fhcg3"
      },
      "execution_count": 6,
      "outputs": []
    },
    {
      "cell_type": "code",
      "source": [
        "plot_bar(\n",
        "    data[['Outcome']].replace({0: 'No Diabetes', 1: 'Diabetes'}),\n",
        "    paleta=paleta,\n",
        "    ejeX='Outcome',\n",
        "    ejey='Conteo Enfermos',\n",
        "    title='Count City', p=True)"
      ],
      "metadata": {
        "colab": {
          "base_uri": "https://localhost:8080/",
          "height": 526
        },
        "id": "XmiTfmHMhggN",
        "outputId": "52ccaea4-ce59-4d57-b5d8-bcd543f8e2e1"
      },
      "execution_count": 7,
      "outputs": [
        {
          "output_type": "display_data",
          "data": {
            "text/plain": [
              "<Figure size 800x500 with 1 Axes>"
            ],
            "image/png": "[encoded data removed]"
          },
          "metadata": {}
        }
      ]
    },
    {
      "cell_type": "code",
      "source": [
        "data[data['Outcome'] == 0].shape[0]/data[data['Outcome'] == 1].shape[0]"
      ],
      "metadata": {
        "colab": {
          "base_uri": "https://localhost:8080/"
        },
        "id": "Dz8M6EoThtJc",
        "outputId": "40b54c69-8a29-40cb-9a80-3d9da1139f4c"
      },
      "execution_count": 8,
      "outputs": [
        {
          "output_type": "execute_result",
          "data": {
            "text/plain": [
              "1.8656716417910448"
            ]
          },
          "metadata": {},
          "execution_count": 8
        }
      ]
    },
    {
      "cell_type": "markdown",
      "source": [
        "There is a significant but not extreme imbalance. For every person with possible diabetes, there are approximately 1.8 healthy individuals."
      ],
      "metadata": {
        "id": "RaeShXPajx__"
      }
    },
    {
      "cell_type": "markdown",
      "source": [
        "# **Data Split**\n",
        "---"
      ],
      "metadata": {
        "id": "mKY-EtUBB7CC"
      }
    },
    {
      "cell_type": "code",
      "source": [
        "X = data.iloc[:, :8]\n",
        "y = data.iloc[:, 8]"
      ],
      "metadata": {
        "id": "e_VtWriuBqha"
      },
      "execution_count": 9,
      "outputs": []
    },
    {
      "cell_type": "code",
      "source": [
        "X_train, X_test, y_train, y_test = train_test_split(\n",
        "    X, y, test_size=0.2, random_state=random_seed, shuffle=True)"
      ],
      "metadata": {
        "id": "hZ9av6DfdVIM"
      },
      "execution_count": 10,
      "outputs": []
    },
    {
      "cell_type": "markdown",
      "source": [
        "# **Preprocesing**\n",
        "---"
      ],
      "metadata": {
        "id": "Xo39GkYXkPqk"
      }
    },
    {
      "cell_type": "code",
      "source": [
        "numeric_columns = X_train.select_dtypes(include=['int32', 'float32']).columns.to_list()"
      ],
      "metadata": {
        "id": "VtKh51W0klUz"
      },
      "execution_count": 11,
      "outputs": []
    },
    {
      "cell_type": "code",
      "source": [
        "numeric_transformer = Pipeline(steps=[\n",
        "    ('scaler', MinMaxScaler())\n",
        "])"
      ],
      "metadata": {
        "id": "KzQYR_r-ko8r"
      },
      "execution_count": 12,
      "outputs": []
    },
    {
      "cell_type": "code",
      "source": [
        "X_train_prep = numeric_transformer.fit_transform(X_train)\n",
        "X_test_prep = numeric_transformer.transform(X_test)"
      ],
      "metadata": {
        "id": "uhuWJdQmk9kO"
      },
      "execution_count": 13,
      "outputs": []
    },
    {
      "cell_type": "markdown",
      "source": [
        "# **Model**\n",
        "---"
      ],
      "metadata": {
        "id": "yyt50ZvdHh8C"
      }
    },
    {
      "cell_type": "markdown",
      "source": [
        "Two neural network architectures will be implemented for this exercise"
      ],
      "metadata": {
        "id": "rZeMo0gylSos"
      }
    },
    {
      "cell_type": "markdown",
      "source": [
        "**first model**"
      ],
      "metadata": {
        "id": "5SfdkZqCq0QB"
      }
    },
    {
      "cell_type": "markdown",
      "source": [
        "This architecture has three layers: the input layer (8 inputs), one hidden layer (6 neurons), and an output layer."
      ],
      "metadata": {
        "id": "ZrvJUD6gnbg0"
      }
    },
    {
      "cell_type": "code",
      "source": [
        "model_one = Sequential()\n",
        "model_one.add(Dense(6, input_dim=8, activation='relu', kernel_initializer='glorot_uniform'))\n",
        "model_one.add(Dense(1, activation='sigmoid', kernel_initializer='glorot_uniform'))"
      ],
      "metadata": {
        "id": "kMM938GqlTW7"
      },
      "execution_count": 14,
      "outputs": []
    },
    {
      "cell_type": "markdown",
      "source": [
        "**Model compilation**"
      ],
      "metadata": {
        "id": "b63iomrbnXtu"
      }
    },
    {
      "cell_type": "code",
      "source": [
        "model_one.compile(\n",
        "    loss='binary_crossentropy',\n",
        "    optimizer='adam',\n",
        "    metrics=[\n",
        "        'accuracy',\n",
        "        keras.metrics.Recall()\n",
        "    ])"
      ],
      "metadata": {
        "id": "SIjCfbnomUGF"
      },
      "execution_count": 15,
      "outputs": []
    },
    {
      "cell_type": "markdown",
      "source": [
        "**fit**"
      ],
      "metadata": {
        "id": "3iPcP6hnn2sM"
      }
    },
    {
      "cell_type": "code",
      "source": [
        "one_history = model_one.fit(\n",
        "    X_train_prep,\n",
        "    y_train,\n",
        "    validation_data=(X_test_prep, y_test),\n",
        "    epochs=500,\n",
        "    batch_size=16,\n",
        "    verbose=0\n",
        ")"
      ],
      "metadata": {
        "id": "DT38CMtgn1Nu"
      },
      "execution_count": 16,
      "outputs": []
    },
    {
      "cell_type": "code",
      "source": [
        "X_train_prep.shape[0]/16"
      ],
      "metadata": {
        "colab": {
          "base_uri": "https://localhost:8080/"
        },
        "id": "5ToZ1glOoR0M",
        "outputId": "82fe0a04-55bd-46ca-ffed-819b61ea1997"
      },
      "execution_count": 17,
      "outputs": [
        {
          "output_type": "execute_result",
          "data": {
            "text/plain": [
              "38.375"
            ]
          },
          "metadata": {},
          "execution_count": 17
        }
      ]
    },
    {
      "cell_type": "markdown",
      "source": [
        "There are approximately 38 batches with 16 records to update the neural network"
      ],
      "metadata": {
        "id": "6IJhTQeXpiRc"
      }
    },
    {
      "cell_type": "code",
      "source": [
        "model_one.summary()"
      ],
      "metadata": {
        "colab": {
          "base_uri": "https://localhost:8080/",
          "height": 221
        },
        "id": "u3YGlU4tpopH",
        "outputId": "ab8e4c03-9cbd-4b01-ef3e-dd76ddff0368"
      },
      "execution_count": 18,
      "outputs": [
        {
          "output_type": "display_data",
          "data": {
            "text/plain": [
              "\u001b[1mModel: \"sequential\"\u001b[0m\n"
            ],
            "text/html": [
              "<pre style=\"white-space:pre;overflow-x:auto;line-height:normal;font-family:Menlo,'DejaVu Sans Mono',consolas,'Courier New',monospace\"><span style=\"font-weight: bold\">Model: \"sequential\"</span>\n",
              "</pre>\n"
            ]
          },
          "metadata": {}
        },
        {
          "output_type": "display_data",
          "data": {
            "text/plain": [
              "┏━━━━━━━━━━━━━━━━━━━━━━━━━━━━━━━━━━━━━━┳━━━━━━━━━━━━━━━━━━━━━━━━━━━━━┳━━━━━━━━━━━━━━━━━┓\n",
              "┃\u001b[1m \u001b[0m\u001b[1mLayer (type)                        \u001b[0m\u001b[1m \u001b[0m┃\u001b[1m \u001b[0m\u001b[1mOutput Shape               \u001b[0m\u001b[1m \u001b[0m┃\u001b[1m \u001b[0m\u001b[1m        Param #\u001b[0m\u001b[1m \u001b[0m┃\n",
              "┡━━━━━━━━━━━━━━━━━━━━━━━━━━━━━━━━━━━━━━╇━━━━━━━━━━━━━━━━━━━━━━━━━━━━━╇━━━━━━━━━━━━━━━━━┩\n",
              "│ dense (\u001b[38;5;33mDense\u001b[0m)                        │ (\u001b[38;5;45mNone\u001b[0m, \u001b[38;5;34m6\u001b[0m)                   │              \u001b[38;5;34m54\u001b[0m │\n",
              "├──────────────────────────────────────┼─────────────────────────────┼─────────────────┤\n",
              "│ dense_1 (\u001b[38;5;33mDense\u001b[0m)                      │ (\u001b[38;5;45mNone\u001b[0m, \u001b[38;5;34m1\u001b[0m)                   │               \u001b[38;5;34m7\u001b[0m │\n",
              "└──────────────────────────────────────┴─────────────────────────────┴─────────────────┘\n"
            ],
            "text/html": [
              "<pre style=\"white-space:pre;overflow-x:auto;line-height:normal;font-family:Menlo,'DejaVu Sans Mono',consolas,'Courier New',monospace\">┏━━━━━━━━━━━━━━━━━━━━━━━━━━━━━━━━━━━━━━┳━━━━━━━━━━━━━━━━━━━━━━━━━━━━━┳━━━━━━━━━━━━━━━━━┓\n",
              "┃<span style=\"font-weight: bold\"> Layer (type)                         </span>┃<span style=\"font-weight: bold\"> Output Shape                </span>┃<span style=\"font-weight: bold\">         Param # </span>┃\n",
              "┡━━━━━━━━━━━━━━━━━━━━━━━━━━━━━━━━━━━━━━╇━━━━━━━━━━━━━━━━━━━━━━━━━━━━━╇━━━━━━━━━━━━━━━━━┩\n",
              "│ dense (<span style=\"color: #0087ff; text-decoration-color: #0087ff\">Dense</span>)                        │ (<span style=\"color: #00d7ff; text-decoration-color: #00d7ff\">None</span>, <span style=\"color: #00af00; text-decoration-color: #00af00\">6</span>)                   │              <span style=\"color: #00af00; text-decoration-color: #00af00\">54</span> │\n",
              "├──────────────────────────────────────┼─────────────────────────────┼─────────────────┤\n",
              "│ dense_1 (<span style=\"color: #0087ff; text-decoration-color: #0087ff\">Dense</span>)                      │ (<span style=\"color: #00d7ff; text-decoration-color: #00d7ff\">None</span>, <span style=\"color: #00af00; text-decoration-color: #00af00\">1</span>)                   │               <span style=\"color: #00af00; text-decoration-color: #00af00\">7</span> │\n",
              "└──────────────────────────────────────┴─────────────────────────────┴─────────────────┘\n",
              "</pre>\n"
            ]
          },
          "metadata": {}
        },
        {
          "output_type": "display_data",
          "data": {
            "text/plain": [
              "\u001b[1m Total params: \u001b[0m\u001b[38;5;34m185\u001b[0m (744.00 B)\n"
            ],
            "text/html": [
              "<pre style=\"white-space:pre;overflow-x:auto;line-height:normal;font-family:Menlo,'DejaVu Sans Mono',consolas,'Courier New',monospace\"><span style=\"font-weight: bold\"> Total params: </span><span style=\"color: #00af00; text-decoration-color: #00af00\">185</span> (744.00 B)\n",
              "</pre>\n"
            ]
          },
          "metadata": {}
        },
        {
          "output_type": "display_data",
          "data": {
            "text/plain": [
              "\u001b[1m Trainable params: \u001b[0m\u001b[38;5;34m61\u001b[0m (244.00 B)\n"
            ],
            "text/html": [
              "<pre style=\"white-space:pre;overflow-x:auto;line-height:normal;font-family:Menlo,'DejaVu Sans Mono',consolas,'Courier New',monospace\"><span style=\"font-weight: bold\"> Trainable params: </span><span style=\"color: #00af00; text-decoration-color: #00af00\">61</span> (244.00 B)\n",
              "</pre>\n"
            ]
          },
          "metadata": {}
        },
        {
          "output_type": "display_data",
          "data": {
            "text/plain": [
              "\u001b[1m Non-trainable params: \u001b[0m\u001b[38;5;34m0\u001b[0m (0.00 B)\n"
            ],
            "text/html": [
              "<pre style=\"white-space:pre;overflow-x:auto;line-height:normal;font-family:Menlo,'DejaVu Sans Mono',consolas,'Courier New',monospace\"><span style=\"font-weight: bold\"> Non-trainable params: </span><span style=\"color: #00af00; text-decoration-color: #00af00\">0</span> (0.00 B)\n",
              "</pre>\n"
            ]
          },
          "metadata": {}
        },
        {
          "output_type": "display_data",
          "data": {
            "text/plain": [
              "\u001b[1m Optimizer params: \u001b[0m\u001b[38;5;34m124\u001b[0m (500.00 B)\n"
            ],
            "text/html": [
              "<pre style=\"white-space:pre;overflow-x:auto;line-height:normal;font-family:Menlo,'DejaVu Sans Mono',consolas,'Courier New',monospace\"><span style=\"font-weight: bold\"> Optimizer params: </span><span style=\"color: #00af00; text-decoration-color: #00af00\">124</span> (500.00 B)\n",
              "</pre>\n"
            ]
          },
          "metadata": {}
        }
      ]
    },
    {
      "cell_type": "code",
      "source": [
        "one_history.history.keys()"
      ],
      "metadata": {
        "colab": {
          "base_uri": "https://localhost:8080/"
        },
        "id": "2kerYUeNpoiV",
        "outputId": "95ce53f6-df05-493e-acfe-89428ae679df"
      },
      "execution_count": 19,
      "outputs": [
        {
          "output_type": "execute_result",
          "data": {
            "text/plain": [
              "dict_keys(['accuracy', 'loss', 'recall', 'val_accuracy', 'val_loss', 'val_recall'])"
            ]
          },
          "metadata": {},
          "execution_count": 19
        }
      ]
    },
    {
      "cell_type": "markdown",
      "source": [
        "**second model**"
      ],
      "metadata": {
        "id": "gDom29vGq5DE"
      }
    },
    {
      "cell_type": "markdown",
      "source": [
        "The architecture has four layers: the input layer (8 inputs), one hidden layer (6 neurons), the second hidden layer (2 neurons), and an output layer."
      ],
      "metadata": {
        "id": "c8BJwXAwsE7E"
      }
    },
    {
      "cell_type": "code",
      "source": [
        "model_two = Sequential()\n",
        "model_two.add(Dense(6, input_dim=8, activation='relu', kernel_initializer='glorot_uniform'))\n",
        "model_two.add(Dense(2, activation='relu', kernel_initializer='glorot_uniform'))\n",
        "model_two.add(Dense(1, activation='sigmoid', kernel_initializer='glorot_uniform'))"
      ],
      "metadata": {
        "id": "JznwPA1CpoXL"
      },
      "execution_count": 20,
      "outputs": []
    },
    {
      "cell_type": "markdown",
      "source": [
        "**Model compilation**"
      ],
      "metadata": {
        "id": "TkYWdLISsJmk"
      }
    },
    {
      "cell_type": "code",
      "source": [
        "model_two.compile(\n",
        "    loss='binary_crossentropy',\n",
        "    optimizer='adam',\n",
        "    metrics=[\n",
        "        'accuracy',\n",
        "        keras.metrics.Recall()]\n",
        ")"
      ],
      "metadata": {
        "id": "_FEplYldsGeL"
      },
      "execution_count": 21,
      "outputs": []
    },
    {
      "cell_type": "markdown",
      "source": [
        "**fit**"
      ],
      "metadata": {
        "id": "BMYlb6IjsftF"
      }
    },
    {
      "cell_type": "code",
      "source": [
        "two_history = model_two.fit(\n",
        "    X_train_prep,\n",
        "    y_train,\n",
        "    validation_data=(X_test_prep, y_test),\n",
        "    epochs=500,\n",
        "    batch_size=16,\n",
        "    verbose=0\n",
        ")"
      ],
      "metadata": {
        "id": "1yZqIM7usGa0"
      },
      "execution_count": 22,
      "outputs": []
    },
    {
      "cell_type": "code",
      "source": [
        "model_two.summary()"
      ],
      "metadata": {
        "colab": {
          "base_uri": "https://localhost:8080/",
          "height": 255
        },
        "id": "7qR9ezDtueT1",
        "outputId": "978d0e9d-4c71-43e3-97b3-9519b0ed8581"
      },
      "execution_count": 23,
      "outputs": [
        {
          "output_type": "display_data",
          "data": {
            "text/plain": [
              "\u001b[1mModel: \"sequential_1\"\u001b[0m\n"
            ],
            "text/html": [
              "<pre style=\"white-space:pre;overflow-x:auto;line-height:normal;font-family:Menlo,'DejaVu Sans Mono',consolas,'Courier New',monospace\"><span style=\"font-weight: bold\">Model: \"sequential_1\"</span>\n",
              "</pre>\n"
            ]
          },
          "metadata": {}
        },
        {
          "output_type": "display_data",
          "data": {
            "text/plain": [
              "┏━━━━━━━━━━━━━━━━━━━━━━━━━━━━━━━━━━━━━━┳━━━━━━━━━━━━━━━━━━━━━━━━━━━━━┳━━━━━━━━━━━━━━━━━┓\n",
              "┃\u001b[1m \u001b[0m\u001b[1mLayer (type)                        \u001b[0m\u001b[1m \u001b[0m┃\u001b[1m \u001b[0m\u001b[1mOutput Shape               \u001b[0m\u001b[1m \u001b[0m┃\u001b[1m \u001b[0m\u001b[1m        Param #\u001b[0m\u001b[1m \u001b[0m┃\n",
              "┡━━━━━━━━━━━━━━━━━━━━━━━━━━━━━━━━━━━━━━╇━━━━━━━━━━━━━━━━━━━━━━━━━━━━━╇━━━━━━━━━━━━━━━━━┩\n",
              "│ dense_2 (\u001b[38;5;33mDense\u001b[0m)                      │ (\u001b[38;5;45mNone\u001b[0m, \u001b[38;5;34m6\u001b[0m)                   │              \u001b[38;5;34m54\u001b[0m │\n",
              "├──────────────────────────────────────┼─────────────────────────────┼─────────────────┤\n",
              "│ dense_3 (\u001b[38;5;33mDense\u001b[0m)                      │ (\u001b[38;5;45mNone\u001b[0m, \u001b[38;5;34m2\u001b[0m)                   │              \u001b[38;5;34m14\u001b[0m │\n",
              "├──────────────────────────────────────┼─────────────────────────────┼─────────────────┤\n",
              "│ dense_4 (\u001b[38;5;33mDense\u001b[0m)                      │ (\u001b[38;5;45mNone\u001b[0m, \u001b[38;5;34m1\u001b[0m)                   │               \u001b[38;5;34m3\u001b[0m │\n",
              "└──────────────────────────────────────┴─────────────────────────────┴─────────────────┘\n"
            ],
            "text/html": [
              "<pre style=\"white-space:pre;overflow-x:auto;line-height:normal;font-family:Menlo,'DejaVu Sans Mono',consolas,'Courier New',monospace\">┏━━━━━━━━━━━━━━━━━━━━━━━━━━━━━━━━━━━━━━┳━━━━━━━━━━━━━━━━━━━━━━━━━━━━━┳━━━━━━━━━━━━━━━━━┓\n",
              "┃<span style=\"font-weight: bold\"> Layer (type)                         </span>┃<span style=\"font-weight: bold\"> Output Shape                </span>┃<span style=\"font-weight: bold\">         Param # </span>┃\n",
              "┡━━━━━━━━━━━━━━━━━━━━━━━━━━━━━━━━━━━━━━╇━━━━━━━━━━━━━━━━━━━━━━━━━━━━━╇━━━━━━━━━━━━━━━━━┩\n",
              "│ dense_2 (<span style=\"color: #0087ff; text-decoration-color: #0087ff\">Dense</span>)                      │ (<span style=\"color: #00d7ff; text-decoration-color: #00d7ff\">None</span>, <span style=\"color: #00af00; text-decoration-color: #00af00\">6</span>)                   │              <span style=\"color: #00af00; text-decoration-color: #00af00\">54</span> │\n",
              "├──────────────────────────────────────┼─────────────────────────────┼─────────────────┤\n",
              "│ dense_3 (<span style=\"color: #0087ff; text-decoration-color: #0087ff\">Dense</span>)                      │ (<span style=\"color: #00d7ff; text-decoration-color: #00d7ff\">None</span>, <span style=\"color: #00af00; text-decoration-color: #00af00\">2</span>)                   │              <span style=\"color: #00af00; text-decoration-color: #00af00\">14</span> │\n",
              "├──────────────────────────────────────┼─────────────────────────────┼─────────────────┤\n",
              "│ dense_4 (<span style=\"color: #0087ff; text-decoration-color: #0087ff\">Dense</span>)                      │ (<span style=\"color: #00d7ff; text-decoration-color: #00d7ff\">None</span>, <span style=\"color: #00af00; text-decoration-color: #00af00\">1</span>)                   │               <span style=\"color: #00af00; text-decoration-color: #00af00\">3</span> │\n",
              "└──────────────────────────────────────┴─────────────────────────────┴─────────────────┘\n",
              "</pre>\n"
            ]
          },
          "metadata": {}
        },
        {
          "output_type": "display_data",
          "data": {
            "text/plain": [
              "\u001b[1m Total params: \u001b[0m\u001b[38;5;34m215\u001b[0m (864.00 B)\n"
            ],
            "text/html": [
              "<pre style=\"white-space:pre;overflow-x:auto;line-height:normal;font-family:Menlo,'DejaVu Sans Mono',consolas,'Courier New',monospace\"><span style=\"font-weight: bold\"> Total params: </span><span style=\"color: #00af00; text-decoration-color: #00af00\">215</span> (864.00 B)\n",
              "</pre>\n"
            ]
          },
          "metadata": {}
        },
        {
          "output_type": "display_data",
          "data": {
            "text/plain": [
              "\u001b[1m Trainable params: \u001b[0m\u001b[38;5;34m71\u001b[0m (284.00 B)\n"
            ],
            "text/html": [
              "<pre style=\"white-space:pre;overflow-x:auto;line-height:normal;font-family:Menlo,'DejaVu Sans Mono',consolas,'Courier New',monospace\"><span style=\"font-weight: bold\"> Trainable params: </span><span style=\"color: #00af00; text-decoration-color: #00af00\">71</span> (284.00 B)\n",
              "</pre>\n"
            ]
          },
          "metadata": {}
        },
        {
          "output_type": "display_data",
          "data": {
            "text/plain": [
              "\u001b[1m Non-trainable params: \u001b[0m\u001b[38;5;34m0\u001b[0m (0.00 B)\n"
            ],
            "text/html": [
              "<pre style=\"white-space:pre;overflow-x:auto;line-height:normal;font-family:Menlo,'DejaVu Sans Mono',consolas,'Courier New',monospace\"><span style=\"font-weight: bold\"> Non-trainable params: </span><span style=\"color: #00af00; text-decoration-color: #00af00\">0</span> (0.00 B)\n",
              "</pre>\n"
            ]
          },
          "metadata": {}
        },
        {
          "output_type": "display_data",
          "data": {
            "text/plain": [
              "\u001b[1m Optimizer params: \u001b[0m\u001b[38;5;34m144\u001b[0m (580.00 B)\n"
            ],
            "text/html": [
              "<pre style=\"white-space:pre;overflow-x:auto;line-height:normal;font-family:Menlo,'DejaVu Sans Mono',consolas,'Courier New',monospace\"><span style=\"font-weight: bold\"> Optimizer params: </span><span style=\"color: #00af00; text-decoration-color: #00af00\">144</span> (580.00 B)\n",
              "</pre>\n"
            ]
          },
          "metadata": {}
        }
      ]
    },
    {
      "cell_type": "code",
      "source": [
        "two_history.history.keys()"
      ],
      "metadata": {
        "colab": {
          "base_uri": "https://localhost:8080/"
        },
        "id": "-Tea5bQXueJ2",
        "outputId": "890e5839-985d-469a-e995-af7a96afb9be"
      },
      "execution_count": 24,
      "outputs": [
        {
          "output_type": "execute_result",
          "data": {
            "text/plain": [
              "dict_keys(['accuracy', 'loss', 'recall_1', 'val_accuracy', 'val_loss', 'val_recall_1'])"
            ]
          },
          "metadata": {},
          "execution_count": 24
        }
      ]
    },
    {
      "cell_type": "markdown",
      "source": [
        "# **Learning Curves**\n",
        "---"
      ],
      "metadata": {
        "id": "MLVqwABDyWFI"
      }
    },
    {
      "cell_type": "markdown",
      "source": [
        "**Performance learning curves**"
      ],
      "metadata": {
        "id": "gveu3rYbylSt"
      }
    },
    {
      "cell_type": "code",
      "source": [
        "optimization_learning_curves(one_history, metrica='recall', title='Recall Model One', y_label='Recall')"
      ],
      "metadata": {
        "id": "kAnHo_ZKsGW5",
        "colab": {
          "base_uri": "https://localhost:8080/",
          "height": 439
        },
        "outputId": "79263283-ace1-4bcf-bf85-ffa17c95d3a9"
      },
      "execution_count": 25,
      "outputs": [
        {
          "output_type": "display_data",
          "data": {
            "text/plain": [
              "<Figure size 800x400 with 1 Axes>"
            ],
            "image/png": "[encoded data removed]"
          },
          "metadata": {}
        }
      ]
    },
    {
      "cell_type": "markdown",
      "source": [
        "What is evident is that the architecture achieves a good recall optimization on the test data, approximately around epoch 50, where it starts to surpass the performance of the training data. This is peculiar, because although it's good, the performance within the epochs doesn't exceed 0.7, especially for a model that classifies the likelihood of a person having diabetes."
      ],
      "metadata": {
        "id": "Yyv1Ut19QZQQ"
      }
    },
    {
      "cell_type": "code",
      "source": [
        "optimization_learning_curves(two_history, metrica='recall_1', title='Recall Model Two')"
      ],
      "metadata": {
        "id": "tyMH_MhksGS0",
        "colab": {
          "base_uri": "https://localhost:8080/",
          "height": 439
        },
        "outputId": "80e1d435-2060-47cf-a062-2c2952152241"
      },
      "execution_count": 26,
      "outputs": [
        {
          "output_type": "display_data",
          "data": {
            "text/plain": [
              "<Figure size 800x400 with 1 Axes>"
            ],
            "image/png": "[encoded data removed]"
          },
          "metadata": {}
        }
      ]
    },
    {
      "cell_type": "markdown",
      "source": [
        "What is evident is that the architecture achieves a good recall optimization on the test data, approximately around epoch 50 or less, where it starts to surpass the performance of the training data. This is peculiar, because although it's good, the performance within the epochs doesn't exceed 0.7, especially for a model that classifies the likelihood of a person having diabetes.\n"
      ],
      "metadata": {
        "id": "i_1Up2UjQbq2"
      }
    },
    {
      "cell_type": "markdown",
      "source": [
        "**Optimization learning curves**"
      ],
      "metadata": {
        "id": "tTiUinWo3Sde"
      }
    },
    {
      "cell_type": "code",
      "source": [
        "optimization_learning_curves(one_history, metrica='loss', title='Loss Model One')"
      ],
      "metadata": {
        "id": "UKGJudPn6qWF",
        "colab": {
          "base_uri": "https://localhost:8080/",
          "height": 439
        },
        "outputId": "fa844063-636b-4971-fb9d-eb03627bfacf"
      },
      "execution_count": 27,
      "outputs": [
        {
          "output_type": "display_data",
          "data": {
            "text/plain": [
              "<Figure size 800x400 with 1 Axes>"
            ],
            "image/png": "[encoded data removed]"
          },
          "metadata": {}
        }
      ]
    },
    {
      "cell_type": "code",
      "source": [
        "optimization_learning_curves(two_history, metrica='loss', title='Loss Model two')"
      ],
      "metadata": {
        "id": "skj_9B-p6wWu",
        "colab": {
          "base_uri": "https://localhost:8080/",
          "height": 439
        },
        "outputId": "8621e3d3-bedb-45ff-d9ff-71ddd579a016"
      },
      "execution_count": 28,
      "outputs": [
        {
          "output_type": "display_data",
          "data": {
            "text/plain": [
              "<Figure size 800x400 with 1 Axes>"
            ],
            "image/png": "[encoded data removed]"
          },
          "metadata": {}
        }
      ]
    },
    {
      "cell_type": "markdown",
      "source": [
        "- Model one performs well when predicting the positive class when it actually occurs. It converges approximately around epoch 400.\n",
        "\n",
        "- Architecture two is more complex than model one and shows better performance with the sensitivity metric. However, its performance tends toward overfitting from the early epochs."
      ],
      "metadata": {
        "id": "_9t-G74PRzhP"
      }
    },
    {
      "cell_type": "markdown",
      "source": [
        "# **Predictions**\n",
        "---\n"
      ],
      "metadata": {
        "id": "oEh8__T264WK"
      }
    },
    {
      "cell_type": "code",
      "source": [
        "y_pred_one = (model_one.predict(X_test_prep)>0.5).astype('int')\n",
        "y_pred_two = (model_two.predict(X_test_prep)>0.5).astype('int')"
      ],
      "metadata": {
        "id": "GmHk8O_x8JDQ",
        "colab": {
          "base_uri": "https://localhost:8080/"
        },
        "outputId": "4e075bbd-27ef-4a19-bb4f-2cc784460ddc"
      },
      "execution_count": 29,
      "outputs": [
        {
          "output_type": "stream",
          "name": "stdout",
          "text": [
            "\u001b[1m5/5\u001b[0m \u001b[32m━━━━━━━━━━━━━━━━━━━━\u001b[0m\u001b[37m\u001b[0m \u001b[1m0s\u001b[0m 12ms/step\n",
            "\u001b[1m5/5\u001b[0m \u001b[32m━━━━━━━━━━━━━━━━━━━━\u001b[0m\u001b[37m\u001b[0m \u001b[1m0s\u001b[0m 16ms/step\n"
          ]
        }
      ]
    },
    {
      "cell_type": "code",
      "source": [
        "y_pred_one = np.reshape(y_pred_one, y_pred_one.shape[0])\n",
        "y_pred_two = np.reshape(y_pred_two, y_pred_two.shape[0])"
      ],
      "metadata": {
        "id": "CO4NM-DPSSmO"
      },
      "execution_count": 30,
      "outputs": []
    },
    {
      "cell_type": "code",
      "source": [
        "# Sesgo predictivo\n",
        "#sesgo predicción = promedio de predicciones - promedio de etiquetas (observaciones) en el conjunto de datos\n",
        "def sesgo_prediction(y_pred:pd.Series,\n",
        "                     y_valid:pd.Series,\n",
        "                     target:int)->tuple:\n",
        "  \"\"\" Calcula el sesgo de predicción \"\"\"\n",
        "  average_prediction = (len(y_pred[y_pred==target])) / len(y_pred)\n",
        "  average_label_target = (len(y_valid[y_valid==target])) / len(y_valid)\n",
        "  sesgo_prediction = average_prediction - average_label_target\n",
        "  return sesgo_prediction, average_prediction, average_label_target"
      ],
      "metadata": {
        "id": "70r1uSoHSpAi"
      },
      "execution_count": 31,
      "outputs": []
    },
    {
      "cell_type": "code",
      "source": [
        "prediction_bias, prediction_average, prediction_validation = sesgo_prediction(\n",
        "    y_pred_one,\n",
        "    y_test,\n",
        "    1)\n",
        "print(f'Prediction average:  {prediction_average}')\n",
        "print(f'Label average: {prediction_validation}')\n",
        "print(f'Prediction bias: {prediction_bias}')"
      ],
      "metadata": {
        "colab": {
          "base_uri": "https://localhost:8080/"
        },
        "id": "USrc_QSJWS6Q",
        "outputId": "7bc406fc-5b25-48f1-c430-45fd4760e750"
      },
      "execution_count": 32,
      "outputs": [
        {
          "output_type": "stream",
          "name": "stdout",
          "text": [
            "Prediction average:  0.3246753246753247\n",
            "Label average: 0.34415584415584416\n",
            "Prediction bias: -0.019480519480519487\n"
          ]
        }
      ]
    },
    {
      "cell_type": "markdown",
      "source": [
        "It has a bias of approximately -0.019%, the model underestimates, and has an error percentage of not predicting patients with diabetes."
      ],
      "metadata": {
        "id": "RlVThyioXxOv"
      }
    },
    {
      "cell_type": "code",
      "source": [
        "prediction_bias, prediction_average, prediction_validation = sesgo_prediction(\n",
        "    y_pred_two,\n",
        "    y_test,\n",
        "    1)\n",
        "print(f'Prediction average:  {prediction_average}')\n",
        "print(f'Label average: {prediction_validation}')\n",
        "print(f'Prediction bias: {prediction_bias}')"
      ],
      "metadata": {
        "colab": {
          "base_uri": "https://localhost:8080/"
        },
        "id": "fv2qpK24Xy5t",
        "outputId": "fb46b9f6-0dc5-47c6-e1f8-1966d51517c5"
      },
      "execution_count": 33,
      "outputs": [
        {
          "output_type": "stream",
          "name": "stdout",
          "text": [
            "Prediction average:  0.36363636363636365\n",
            "Label average: 0.34415584415584416\n",
            "Prediction bias: 0.019480519480519487\n"
          ]
        }
      ]
    },
    {
      "cell_type": "markdown",
      "source": [
        "It has a bias of approximately 0.01948, the model underestimates, and has an error percentage of predictions for patients without diabetes"
      ],
      "metadata": {
        "id": "IuIG1mw8Y7NH"
      }
    },
    {
      "cell_type": "markdown",
      "source": [
        "**Confusion Matrix**"
      ],
      "metadata": {
        "id": "JvGqIF7zBre2"
      }
    },
    {
      "cell_type": "code",
      "source": [
        "kward = {\"cmap\": \"Blues\", \"annot_kws\": {\"size\":12}}\n",
        "matrix = matrix_confusion(\n",
        "    y_test,\n",
        "    y_pred_one,\n",
        "    title='Confusion Matrix Model One',\n",
        "    churm=\"Sick rate\",\n",
        "    no_churm=\"Healthy rate\",\n",
        "    **kward)"
      ],
      "metadata": {
        "id": "O3WAX9ky0GzC",
        "colab": {
          "base_uri": "https://localhost:8080/",
          "height": 483
        },
        "outputId": "a115aee8-2423-4211-ad2c-5a35fc77cd17"
      },
      "execution_count": 38,
      "outputs": [
        {
          "output_type": "display_data",
          "data": {
            "text/plain": [
              "<Figure size 600x500 with 2 Axes>"
            ],
            "image/png": "[encoded data removed]"
          },
          "metadata": {}
        }
      ]
    },
    {
      "cell_type": "code",
      "source": [
        "kward = {\"cmap\": \"Greens\", \"annot_kws\": {\"size\":12}}\n",
        "matrix = matrix_confusion(\n",
        "    y_test,\n",
        "    y_pred_two,\n",
        "    title='Confusion Matrix Model Two',\n",
        "    churm=\"Sick rate\",\n",
        "    no_churm=\"Healthy rate\",\n",
        "    **kward)"
      ],
      "metadata": {
        "colab": {
          "base_uri": "https://localhost:8080/",
          "height": 483
        },
        "id": "dzoCKLeDDd0P",
        "outputId": "19df94bf-9d0d-4973-a0d5-820095b09429"
      },
      "execution_count": 39,
      "outputs": [
        {
          "output_type": "display_data",
          "data": {
            "text/plain": [
              "<Figure size 600x500 with 2 Axes>"
            ],
            "image/png": "[encoded data removed]"
          },
          "metadata": {}
        }
      ]
    },
    {
      "cell_type": "markdown",
      "source": [
        "Both models show regular performance, but with very similar behavior. However, model two performs slightly better, although it tends to exhibit overfitting from the early epochs. Regarding the number of records, both models have a considerable percentage of false negatives, as they classify sick individuals as healthy, which puts people at risk, presenting a Type II error. Since the dataset is imbalanced, we focus on sensitivity to detect sick individuals when they are actually sick.\n"
      ],
      "metadata": {
        "id": "46MvGTU3LRMA"
      }
    },
    {
      "cell_type": "code",
      "source": [
        "def metricas(validation, prediction, matrix, label:list=[1])->None:\n",
        "  accuracy = '%.3f' % metrics.accuracy_score(validation, prediction)\n",
        "  kappa = '%.3f' % metrics.cohen_kappa_score(validation, prediction)\n",
        "  precision = '%.3f' % metrics.precision_score(\n",
        "      validation, prediction, labels=label, average=\"micro\")\n",
        "  recall = '%.3f' % metrics.recall_score(\n",
        "      validation, prediction, labels=label, average=\"micro\")\n",
        "  f1_score = '%.3f' % metrics.f1_score(\n",
        "      validation, prediction, labels=label, average=\"micro\")\n",
        "\n",
        "  print(f'Accuracy  :   {accuracy}')\n",
        "  print(f'Kappa     :   {kappa}')\n",
        "  print(f'predicción enfermos')\n",
        "  print(f'Precision:   {precision}')\n",
        "  print(f'Recall    :   {recall}')\n",
        "\n",
        "  VN, FP = 0, 0\n",
        "  if label == [1]:\n",
        "    VN = matrix[0,0]\n",
        "    FP = matrix[0,1]\n",
        "  else:\n",
        "    VN = matrix[0,0]\n",
        "    FP = matrix[0,1]\n",
        "  specificity = VN/(VN+FP)\n",
        "  specificity = '%.3f' %  specificity\n",
        "\n",
        "  print(f'Specificity:   {specificity}')\n",
        "  print(f'F1-score   :   {f1_score}')\n",
        "  return accuracy, kappa, precision, recall, f1_score, specificity\n",
        ""
      ],
      "metadata": {
        "id": "ICwNWW3qI-a8"
      },
      "execution_count": 40,
      "outputs": []
    },
    {
      "cell_type": "code",
      "source": [
        "accuracy, kappa, precision, recall, f1_score, specificity = metricas(\n",
        "    y_test,\n",
        "    y_pred_one,\n",
        "    matrix)"
      ],
      "metadata": {
        "colab": {
          "base_uri": "https://localhost:8080/"
        },
        "id": "c6NFoAV6JR9f",
        "outputId": "b18d3c1b-db9c-45df-adad-6b8fd06d9693"
      },
      "execution_count": 41,
      "outputs": [
        {
          "output_type": "stream",
          "name": "stdout",
          "text": [
            "Accuracy  :   0.786\n",
            "Kappa     :   0.519\n",
            "predicción enfermos\n",
            "Precision:   0.700\n",
            "Recall    :   0.660\n",
            "Specificity:   0.842\n",
            "F1-score   :   0.680\n"
          ]
        }
      ]
    },
    {
      "cell_type": "code",
      "source": [
        "accuracy, kappa, precision, recall, f1_score, specificity = metricas(\n",
        "    y_test,\n",
        "    y_pred_two,\n",
        "    matrix)"
      ],
      "metadata": {
        "colab": {
          "base_uri": "https://localhost:8080/"
        },
        "id": "74V09IjiJXjm",
        "outputId": "6b5d0159-955f-4856-ab91-5a5122268016"
      },
      "execution_count": 42,
      "outputs": [
        {
          "output_type": "stream",
          "name": "stdout",
          "text": [
            "Accuracy  :   0.812\n",
            "Kappa     :   0.588\n",
            "predicción enfermos\n",
            "Precision:   0.714\n",
            "Recall    :   0.755\n",
            "Specificity:   0.842\n",
            "F1-score   :   0.734\n"
          ]
        }
      ]
    },
    {
      "cell_type": "markdown",
      "source": [
        "La sensibilidad es muy bajita, para mabos modelos, el modelo no seria el indicado, para un problema tán critico como detección de una enfermedad, sin embargo el modelo dos tiene un comportamiento ligeramente mejor que el modelo uno."
      ],
      "metadata": {
        "id": "1up56bPJMGD_"
      }
    },
    {
      "cell_type": "markdown",
      "source": [
        "Since the purpose of the project is focused on self-learning, not all the required techniques and knowledge were applied. However, variations were made in the hyperparameters, as well as manipulating the network structure and the values in the data partition."
      ],
      "metadata": {
        "id": "7tf4mltpMVj4"
      }
    },
    {
      "cell_type": "markdown",
      "source": [
        "Info\n",
        "@By: **Steven Bernal**\n",
        "\n",
        "@Nickname: **Kaiziferr**\n",
        "\n",
        "@Git: **https://github.com/Kaiziferr**"
      ],
      "metadata": {
        "id": "rSqWxv3nMbEH"
      }
    }
  ]
}